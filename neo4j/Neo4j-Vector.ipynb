{
 "cells": [
  {
   "cell_type": "code",
   "execution_count": 29,
   "id": "fb4d8143",
   "metadata": {},
   "outputs": [
    {
     "name": "stdout",
     "output_type": "stream",
     "text": [
      "Requirement already satisfied: neo4j in /opt/homebrew/lib/python3.11/site-packages (5.12.0)\n",
      "Requirement already satisfied: langchain in /opt/homebrew/lib/python3.11/site-packages (0.0.270)\n",
      "Requirement already satisfied: wikipedia in /opt/homebrew/lib/python3.11/site-packages (1.4.0)\n",
      "Requirement already satisfied: openai in /opt/homebrew/lib/python3.11/site-packages (0.27.7)\n",
      "Requirement already satisfied: tiktoken in /opt/homebrew/lib/python3.11/site-packages (0.4.0)\n",
      "Requirement already satisfied: pytz in /opt/homebrew/lib/python3.11/site-packages (from neo4j) (2023.2)\n",
      "Requirement already satisfied: PyYAML>=5.3 in /opt/homebrew/lib/python3.11/site-packages (from langchain) (6.0.1)\n",
      "Requirement already satisfied: SQLAlchemy<3,>=1.4 in /opt/homebrew/lib/python3.11/site-packages (from langchain) (2.0.15)\n",
      "Requirement already satisfied: aiohttp<4.0.0,>=3.8.3 in /opt/homebrew/lib/python3.11/site-packages (from langchain) (3.8.4)\n",
      "Requirement already satisfied: dataclasses-json<0.6.0,>=0.5.7 in /opt/homebrew/lib/python3.11/site-packages (from langchain) (0.5.7)\n",
      "Requirement already satisfied: langsmith<0.1.0,>=0.0.21 in /opt/homebrew/lib/python3.11/site-packages (from langchain) (0.0.40)\n",
      "Requirement already satisfied: numexpr<3.0.0,>=2.8.4 in /opt/homebrew/lib/python3.11/site-packages (from langchain) (2.8.4)\n",
      "Requirement already satisfied: numpy<2,>=1 in /opt/homebrew/lib/python3.11/site-packages (from langchain) (1.24.2)\n",
      "Requirement already satisfied: pydantic<3,>=1 in /opt/homebrew/lib/python3.11/site-packages (from langchain) (1.10.9)\n",
      "Requirement already satisfied: requests<3,>=2 in /opt/homebrew/lib/python3.11/site-packages (from langchain) (2.28.2)\n",
      "Requirement already satisfied: tenacity<9.0.0,>=8.1.0 in /opt/homebrew/lib/python3.11/site-packages (from langchain) (8.2.2)\n",
      "Requirement already satisfied: beautifulsoup4 in /opt/homebrew/lib/python3.11/site-packages (from wikipedia) (4.12.0)\n",
      "Requirement already satisfied: tqdm in /opt/homebrew/lib/python3.11/site-packages (from openai) (4.65.0)\n",
      "Requirement already satisfied: regex>=2022.1.18 in /opt/homebrew/lib/python3.11/site-packages (from tiktoken) (2023.6.3)\n",
      "Requirement already satisfied: attrs>=17.3.0 in /opt/homebrew/lib/python3.11/site-packages (from aiohttp<4.0.0,>=3.8.3->langchain) (22.2.0)\n",
      "Requirement already satisfied: charset-normalizer<4.0,>=2.0 in /opt/homebrew/lib/python3.11/site-packages (from aiohttp<4.0.0,>=3.8.3->langchain) (3.1.0)\n",
      "Requirement already satisfied: multidict<7.0,>=4.5 in /opt/homebrew/lib/python3.11/site-packages (from aiohttp<4.0.0,>=3.8.3->langchain) (6.0.4)\n",
      "Requirement already satisfied: async-timeout<5.0,>=4.0.0a3 in /opt/homebrew/lib/python3.11/site-packages (from aiohttp<4.0.0,>=3.8.3->langchain) (4.0.2)\n",
      "Requirement already satisfied: yarl<2.0,>=1.0 in /opt/homebrew/lib/python3.11/site-packages (from aiohttp<4.0.0,>=3.8.3->langchain) (1.9.2)\n",
      "Requirement already satisfied: frozenlist>=1.1.1 in /opt/homebrew/lib/python3.11/site-packages (from aiohttp<4.0.0,>=3.8.3->langchain) (1.3.3)\n",
      "Requirement already satisfied: aiosignal>=1.1.2 in /opt/homebrew/lib/python3.11/site-packages (from aiohttp<4.0.0,>=3.8.3->langchain) (1.3.1)\n",
      "Requirement already satisfied: marshmallow<4.0.0,>=3.3.0 in /opt/homebrew/lib/python3.11/site-packages (from dataclasses-json<0.6.0,>=0.5.7->langchain) (3.19.0)\n",
      "Requirement already satisfied: marshmallow-enum<2.0.0,>=1.5.1 in /opt/homebrew/lib/python3.11/site-packages (from dataclasses-json<0.6.0,>=0.5.7->langchain) (1.5.1)\n",
      "Requirement already satisfied: typing-inspect>=0.4.0 in /opt/homebrew/lib/python3.11/site-packages (from dataclasses-json<0.6.0,>=0.5.7->langchain) (0.9.0)\n",
      "Requirement already satisfied: typing-extensions>=4.2.0 in /opt/homebrew/lib/python3.11/site-packages (from pydantic<3,>=1->langchain) (4.5.0)\n",
      "Requirement already satisfied: idna<4,>=2.5 in /opt/homebrew/lib/python3.11/site-packages (from requests<3,>=2->langchain) (3.4)\n",
      "Requirement already satisfied: urllib3<1.27,>=1.21.1 in /opt/homebrew/lib/python3.11/site-packages (from requests<3,>=2->langchain) (1.26.15)\n",
      "Requirement already satisfied: certifi>=2017.4.17 in /opt/homebrew/lib/python3.11/site-packages (from requests<3,>=2->langchain) (2022.12.7)\n",
      "Requirement already satisfied: soupsieve>1.2 in /opt/homebrew/lib/python3.11/site-packages (from beautifulsoup4->wikipedia) (2.4)\n",
      "Requirement already satisfied: packaging>=17.0 in /opt/homebrew/lib/python3.11/site-packages (from marshmallow<4.0.0,>=3.3.0->dataclasses-json<0.6.0,>=0.5.7->langchain) (23.0)\n",
      "Requirement already satisfied: mypy-extensions>=0.3.0 in /opt/homebrew/lib/python3.11/site-packages (from typing-inspect>=0.4.0->dataclasses-json<0.6.0,>=0.5.7->langchain) (1.0.0)\n"
     ]
    }
   ],
   "source": [
    "!pip install neo4j langchain wikipedia openai tiktoken"
   ]
  },
  {
   "cell_type": "markdown",
   "id": "f6c3131a",
   "metadata": {},
   "source": [
    "## Neo4j Environment setup\n",
    "You need to setup a Neo4j 5.11 or greater. "
   ]
  },
  {
   "cell_type": "code",
   "execution_count": 39,
   "id": "58a27653",
   "metadata": {},
   "outputs": [],
   "source": [
    "from langchain.graphs import Neo4jGraph\n",
    "NEO4J_URI=\"neo4j+s://\"\n",
    "NEO4J_USERNAME=\"neo4j\"\n",
    "NEO4J_PASSWORD=\"\"\n",
    "graph = Neo4jGraph(\n",
    "    url=NEO4J_URI,\n",
    "    username=NEO4J_USERNAME,\n",
    "    password=NEO4J_PASSWORD\n",
    ")\n"
   ]
  },
  {
   "cell_type": "markdown",
   "id": "fa51c2ca",
   "metadata": {},
   "source": [
    "## Setting up the Vector Index"
   ]
  },
  {
   "cell_type": "code",
   "execution_count": null,
   "id": "d2034b0e",
   "metadata": {},
   "outputs": [],
   "source": [
    "graph.query(\"\"\"\n",
    "CALL db.index.vector.createNodeIndex(\n",
    "  'wikipedia', // index name\n",
    "  'Chunk',     // node label\n",
    "  'embedding', // node property\n",
    "   1536,       // vector size\n",
    "   'cosine'    // similarity metric\n",
    ")\n",
    "\"\"\")"
   ]
  },
  {
   "cell_type": "markdown",
   "id": "6466fb95",
   "metadata": {},
   "source": [
    "## Populating the Vector index\n",
    "\n",
    "Neo4j is schema-less by design, which means it doesn't enforce any restrictions what goes into a node property. For example, the embedding property of the Chunk node could store integers, list of integers or even strings. Let's try this out."
   ]
  },
  {
   "cell_type": "code",
   "execution_count": 5,
   "id": "7fca8bd6",
   "metadata": {},
   "outputs": [
    {
     "data": {
      "text/plain": [
       "[]"
      ]
     },
     "execution_count": 5,
     "metadata": {},
     "output_type": "execute_result"
    }
   ],
   "source": [
    "\n",
    "graph.query(\"\"\"\n",
    "WITH [1, [1,2,3], [\"2\",\"5\"], [x in range(0, 1535) | toFloat(x)]] AS exampleValues\n",
    "UNWIND range(0, size(exampleValues) - 1) as index\n",
    "CREATE (:Chunk {embedding: exampleValues[index], index: index})\n",
    "\"\"\")"
   ]
  },
  {
   "cell_type": "markdown",
   "id": "f4919f67",
   "metadata": {},
   "source": [
    "This query creates a Chunknode for each element in the list and uses the element as the embeddingproperty value. For example, the first Chunk node will have the embedding property value 1, the second node [1,2,3], and so on. Neo4j doesn't enforce any rules on what you can store under node properties. However, the vector index has clear instructions about the type of values and their embedding dimension it should index.\n",
    "We can test which values were indexed by performing a vector index search."
   ]
  },
  {
   "cell_type": "code",
   "execution_count": 6,
   "id": "dfb5d637",
   "metadata": {},
   "outputs": [
    {
     "data": {
      "text/plain": [
       "[{'index': 3, 'score': 1.0}]"
      ]
     },
     "execution_count": 6,
     "metadata": {},
     "output_type": "execute_result"
    }
   ],
   "source": [
    "\n",
    "graph.query(\"\"\"\n",
    "CALL db.index.vector.queryNodes(\n",
    "  'wikipedia', // index name\n",
    "  3, // topK neighbors to return\n",
    "  [x in range(0,1535) | toFloat(x) / 2] //input vector\n",
    ")\n",
    "YIELD node, score\n",
    "RETURN node.index AS index, score\n",
    "\"\"\")"
   ]
  },
  {
   "cell_type": "markdown",
   "id": "072631e1",
   "metadata": {},
   "source": [
    "If you run this query, you will get only a single node returned, even though you requested the top 3 neighbors to be returned. Why is that so? The vector index only indexes property values, where the value is a list of floats with the specified size. In this example, only one embeddingproperty value had the list of floats type with the selected length 1536.\n",
    "A node is indexed by the vector index if all the following are true:\n",
    "* The node contains the configured label.\n",
    "* The node contains the configured property key.\n",
    "* The respective property value is of type LIST<FLOAT>.\n",
    "* The size() of the respective value is the same as the configured dimensionality.\n",
    "* The value is a valid vector for the configured similarity function."
   ]
  },
  {
   "cell_type": "code",
   "execution_count": 7,
   "id": "0691d31e",
   "metadata": {},
   "outputs": [
    {
     "data": {
      "text/plain": [
       "[]"
      ]
     },
     "execution_count": 7,
     "metadata": {},
     "output_type": "execute_result"
    }
   ],
   "source": [
    "\n",
    "graph.query(\"\"\"\n",
    "MATCH (n) DETACH DELETE n\n",
    "\"\"\")"
   ]
  },
  {
   "cell_type": "markdown",
   "id": "f21252c5",
   "metadata": {},
   "source": [
    "## Integrating the vector index into the LangChain ecosystem\n",
    "\n",
    "The task will consist of the following steps:\n",
    "\n",
    "* Retrieve a Wikipedia article\n",
    "* Chunk the text\n",
    "* Store the text along with its vector representation in Neo4j\n",
    "* Implement a custom LangChain class to support RAG applications"
   ]
  },
  {
   "cell_type": "code",
   "execution_count": 8,
   "id": "d4193ae6",
   "metadata": {},
   "outputs": [],
   "source": [
    "\n",
    "import wikipedia\n",
    "\n",
    "bg3 = wikipedia.page(pageid=60979422)"
   ]
  },
  {
   "cell_type": "code",
   "execution_count": 9,
   "id": "15464816",
   "metadata": {},
   "outputs": [
    {
     "name": "stdout",
     "output_type": "stream",
     "text": [
      "Baldur's Gate 3 is a role-playing video game developed and published by Larian Studios. It is the third main game in the Baldur's Gate series, which is based on the Dungeons & Dragons tabletop role-playing system. A partial version of the game was released in early access format for macOS, Windows, and the Stadia streaming service, on 6 October 2020. The game remained in early access until its full release on Windows on 3 August 2023. The PlayStation 5 version was released on 6 September 2023, macOS version is scheduled for release on 21 September 2023, and the Xbox Series X/S version is planned for 2023.\n",
      "Baldur's Gate 3 was acclaimed by critics, who praised the gameplay, narrative, amount of content, and player choice.\n",
      "\n",
      "\n",
      "== Gameplay ==\n",
      "Baldur's Gate 3 is a role-playing video game with a single-player and cooperative multiplayer element. Players can create one or more characters and form a party along with a number of pre-generated characters to explore the game's story. Optionally, players are able to take one of their characters and team up online with other players to form a party. Unlike previous games in the Baldur's Gate series, Baldur's Gate 3 has turn-based combat, similar to Larian's earlier games Divinity: Original Sin and Divinity: Original Sin II; all combat is based on the Dungeons & Dragons 5th Edition rules.\n",
      "\n",
      "\n",
      "== Plot ==\n",
      "The game is set in 1492 DR, over 120 years after the events of Baldur's Gate II: Shadows of Amn and months after the events of Baldur's Gate: Descent into Avernus. It features a branching plot where the main story elements stay mostly the same, regardless of the players' choices, but with considerable variation in the details, especially concerning the numerous side quests. At the beginning of the game, players either create an original character who is essentially a \"blank slate\" in terms of back story, choose one of six pre-made \"origin characters\", or a customizable seventh \"origin character\". Each of the possible player characters have unique questlines to each other and certain paths, but largely play the same depending on play style.\n",
      "\n",
      "\n",
      "=== Act I ===\n",
      "The story begins with the protagonist waking up inside a nautiloid, a dimension-crossing illithid flying ship. They are implanted with an illithid tadpole, parasites that enthral and transform people into other mind flayers; however, before the transformation is complete, the ship comes under attack from githyanki warriors and their red dragons. The ship flees through multiple realms, including Avernus, the first of the Nine Hells. The protagonist is freed during the fighting and steers the damaged ship back to Faerûn, where it crashes. As the protagonist searches for a way to remove their parasite, they can encounter other survivors of the wreck, all likewise implanted with tadpoles: the githyanki fighter Lae'zel, the Sharran cleric Shadowheart, the high elf vampire rogue Astarion, the human wizard Gale, the human warlock Wyll, and the tiefling barbarian Karlach. The plot of the first act revolves around numerous avenues of potential cures, such as Ethel, a malevolent hag; Halsin, archdruid of the local druid grove; a goblin priestess serving the nascent \"deity\" called the Absolute; or the renowned bard Volo, who all attempt unsuccessfully to provide a cure. The main plot element is the fate of the Emerald Grove, where local druids and the refugees of the town of Elturel face off against the goblin horde from the desecrated Selunite temples nearby. The party almost becomes overwhelmed by a psychic force as they close in on the temple, but are relieved by the mysterious prism in Shadowheart's possession, a device that is sought after by the githyanki army. Once the protagonists carry out either the sacking or the saving of the grove, they are presented an itinerary to reach Moonrise Towers, where a cure may be found - for this, they are to travel overland, either through the mountains or through the Underdark, the subterranean networks beneath the Temple of Selune.\n",
      "\n",
      "\n",
      "=== Act II ===\n",
      "The second act mainly centres around the Moonrise Towers and its surrounding lands. Once a peaceful land under the stewardship of the Thorm family, the fields are now covered by an unnatural and sentient darkness that can only be penetrated through magical means. The only sanctuary is a small tavern called the Last Light, held by a group of tiefling refugees, Flaming Fist conscripts and Harpers, led by Jaheira - one of the companions of the original Baldur's Gate titles. The protection of the tavern is afforded by a Selunite cleric named Isobel, who also happens to be the resurrected daughter of the reigning lord of Moonrise, General Ketheric Thorm. Isobel's premature demise apparently led her father to abandon Selune, first turning to Shar and later to Myrkul, who enshrines him as his Chosen and permeates the curse upon the land. The protagonist scours the depths of the Moonrise in pursuit of the \"Nightsong\", an artefact also mentioned by mercenaries in Act I. The depths of the Towers house a vast temple to Shar, eventually leading to Shadowfell, Shar's personal domain where Nightsong - not an artefact, but an aasimar named Dame Aylin - is imprisoned. Ketheric is revealed to have trapped Aylin, a daughter of the moon goddess Selune, and used her as an engine of his immortality, as well as a ritual piece for followers of Shar. The player is given the choice to slay or spare the Nightsong, which vastly changes the plot further down the line. The party ultimately raids the Moonrise Towers to confront Ketheric, as well as his cohorts - Orin the Red, the Chosen of Bhaal and Enver Gortash, the Chosen of Bane. The triumvirate collectively controls the Absolute, which is revealed to be an elder brain, the ultimate form of the illithid race, bent to their will by the use of each chosen's netherstones and a mysterious crown adorning the gargantuan brain. Orin and Gortash depart with the elder brain, while Ketheric remains to fight the party. Following his death, the protagonist claims their netherstone while the Absolutist army billeting around the forest departs for Baldur's Gate, clearing the way for the protagonist.\n",
      "\n",
      "\n",
      "=== Act III ===\n",
      "The act is divided between the central district of Baldur's Gate and the outlying suburb of Rivington. The main plot revolves around the two remaining antagonists' attempts to pit the protagonist against the other. This is also where companions find closure for their personal quests, such as Wyll and his estranged father, Shadowheart and her Sharran enclave or Lae'zel's dissent against her queen; Astarion's vampiric master, and Karlach's confrontation with Gortash. Early on, an ambush by a githyanki raid reveals that the protagonist's so-called Dream Visitor is in fact a visage taken by a renegade illithid called the Emperor, who resides within the Astral Prism and oversees the imprisonment of a powerful githyanki - Orpheus, the son of the first queen of the Githyanki. Orpheus is revealed as the source of psionic resistance the players possess against the Absolute and the Emperor has been apparently leveraging this in his favour by keeping him in suspended animation. The protagonist eventually faces off against the remaining Chosens of the Dead Three, assembling the netherstones to subdue the Elder Brain. Despite the preparations, the Elder Brain almost overpowers the protagonist and the party is rescued in the last moment by the Emperor. Depending on various player choices prior to the finale, the playthrough differs slightly. If the protagonist has a falling-out with the Emperor over the imprisonment of Orpheus, the latter resigns to his fate and joins the Absolute. Ultimately the netherstones require an illithid wielder to be effective, so either Orpheus, Karlach, or the player character willingly morph into a mindflayer to see the mission through. The final battle takes place above the Elder Brain, after which the protagonist can choose to either betray their comrades and rule as the Absolute or kill it and every tadpole alongside it, ending the cult forever.\n",
      "\n",
      "\n",
      "== Development ==\n",
      "\n",
      "The original Baldur's Gate game was developed by BioWare and Black Isle Studios, and published by Interplay Entertainment in 1998. The game used a licensed version of the Dungeons & Dragons (D&D) rule set, specifically in the Forgotten Realms setting. The game's success led to a sequel, Baldur's Gate II: Shadows of Amn, and its expansion pack, as well as Icewind Dale and its sequel, and finally, Planescape: Torment. Black Isle Studios began work on a further sequel, Baldur's Gate III: The Black Hound, in 2003, but Interplay faced significant financial crisis that year and shut down Black Isle, cancelling the game. Interplay lost the license to make D&D video games to Atari in 2008. Atari later released Neverwinter Nights and its sequel, Neverwinter Nights 2. Wizards of the Coast had acquired ownership of the Dungeons & Dragons franchise as part of their purchase of TSR in 1997, and had been making updates to the core rule sets over the previous years. The new sequel from Larian Studios has no connection to the cancelled Baldur's Gate III: The Black Hound.\n",
      "The series' intellectual property (IP) had been sought after by multiple developers. This includes Brian Fargo, the founder of both Interplay and inXile Entertainment, as well as Feargus Urquhart of Obsidian Entertainment, who were seeking the IP rights for at least a decade. Larian Studios was interested in making a sequel in the Baldur's Gate series for some time, having first approached Wizards of the Coast after their release of Divinity: Original Sin around 2014. At this time, Wizards of the Coast felt the studio was still too new to the industry to be trusted with the Baldur's Gate license. Larian then developed Divinity: Original Sin II, which was released in September 2017. Pre-release materials related to the game impressed Wizards of the Coast, so they contacted Larian to ask if they still had interest in Baldur's Gate 3. Larian accepted, and while working to wrap up the release stage of development for Divinity: Original Sin II, a small group gathered to develop the design document to present to Wizards of the Coast with their ideas for the new Baldur's Gate.\n",
      "The game is based on the 5th-edition Dungeons & Dragons rule set, though it includes tweaks and modifications that Larian found necessary in adapting it to a video game. For example, the combat system is more in favor of the player than in the tabletop version, to make the game more enjoyable.Larian Studios teased Baldur's Gate 3 in the week prior to E3 2019. They formally revealed it during Google's presentation on the Stadia platform just ahead of E3, confirming its release for both Windows and Stadia. The tabletop adventure Baldur's Gate: Descent Into Avernus was published by Wizards of the Coast in September 2019, and has been described as a \"prequel\" to Baldur's Gate 3. The Descent into Avernus adventure takes place roughly 100 years after the events of Baldur's Gate II, and the story of Baldur's Gate 3 takes place immediately following the events of the Descent into Avernus tabletop module. On 5 October 2020, Larian Studios announced the game would be released for macOS in addition to Windows and Stadia.Baldur's Gate III was originally set to be released in early access on 30 September 2020. This date was later delayed to 6 October 2020. The early access version contained only the first act of the game, amounting to approximately 25 hours of content and one-fifth of the game world's map. The character creator also initially included a selection of 16 races and six classes from which to choose, with more planned for the finalized release. Additional features and content, including multiplayer functionality and more classes, were gradually added to the early access version through patches as development progressed towards the final release. Save files created during early access are not transferable to the completed game.The game remained in early access until its release in August 2023. Following Stadia's closure on 18 January 2023, the full version for Stadia was cancelled. On 23 February 2023, it was announced that Baldur's Gate 3 would be fully released on 31 August 2023 for macOS, Windows, and PlayStation 5. A later announcement amended the PC release date to 3 August, and the macOS and PlayStation 5's to 6 September.An Xbox Series X and Series S port was confirmed by Larian to be in development, but was not officially announced as it ran into technical issues with split-screen co-op on the Series S. Larian mentioned that the game is not a PlayStation console exclusive and might get released on Xbox should the issues get fixed. The Xbox release was confirmed in August 2023. Set for release later in 2023, it will only support split-screen on Series X. Spike Chunsoft published the PlayStation 5 version in Japan.\n",
      "\n",
      "\n",
      "== Reception ==\n",
      "\n",
      "\n",
      "=== Critical reception ===\n",
      "The PC and Playstation 5 versions of Baldur's Gate 3 received \"universal acclaim\" according to review aggregator website Metacritic. 100% of the critics recommended the game on aggregator OpenCritic.Critics praised the quality of the writing, including the detailed depiction of the Dungeons & Dragons setting of Faerûn; the intertwined storylines enabling alternate story moments and a large degree of player freedom; and the characters, particularly companions, that feel interesting and memorable. Critics also praised the production quality, including the voice acting, character and facial animations, and detailed environments. The game's implementation of the Dungeons & Dragons 5th edition ruleset was well received, although some critics were concerned that the complexity of the system could be daunting for players wholly unfamiliar with the tabletop version of the game. The technical performance and its few bugs were highlighted, especially given many vast and complex game systems and interactions. Critics were more lukewarm on the inventory system and some aspects of the user interface, such as needing to micromanage the equipment of multiple characters.Fraser Brown of PC Gamer called the game \"the new pinnacle of the [CRPG] genre\" while IGN Portugal called it a \"must-play masterpiece that sets a new bar in the RPG universe\".Alex Battaglia from Eurogamer praised the game's performance on PC, and added that \"Baldur's Gate 3 launches in a polished state with no game-breaking issues, shaming the technical quality of other big AAA releases\".\n",
      "\n",
      "\n",
      "=== Sales ===\n",
      "Baldur's Gate 3 became the best-selling game on both Steam and GOG.com on the day of its early access launch. On Steam, the game had about 537,000 concurrent players on the day of release, and peaked at 875 thousand concurrent players on the second weekend after release. On 4 August 2023, the CEO of Larian Studios, Swen Vincke, revealed that Baldur's Gate 3 had sold 2.5 million copies on PC via Steam Early Access. The sales of the game surpassed the studio's expectations, as well as those of Microsoft when considering the Xbox release.\n",
      "\n",
      "\n",
      "== Notes ==\n",
      "\n",
      "\n",
      "== References ==\n",
      "\n",
      "\n",
      "== External links ==\n",
      "Official website\n"
     ]
    }
   ],
   "source": [
    "\n",
    "print(bg3.content)"
   ]
  },
  {
   "cell_type": "markdown",
   "id": "3c6ad75a",
   "metadata": {},
   "source": [
    "We need to chunk and embed the text. We will split the text by section using the double newline delimiter and then use OpenAI's embedding model to represent each section with an appropriate vector."
   ]
  },
  {
   "cell_type": "code",
   "execution_count": 14,
   "id": "daed9e64",
   "metadata": {},
   "outputs": [],
   "source": [
    "\n",
    "import os\n",
    "from langchain.embeddings import OpenAIEmbeddings\n",
    "\n",
    "os.environ[\"OPENAI_API_KEY\"] = \"\"\n",
    "\n",
    "embeddings = OpenAIEmbeddings()\n",
    "\n",
    "chunks = [{'text':el, 'embedding': embeddings.embed_query(el)} for\n",
    "                  el in bg3.content.split(\"\\n\\n\") if len(el) > 50]"
   ]
  },
  {
   "cell_type": "markdown",
   "id": "ee4d4fee",
   "metadata": {},
   "source": [
    "## Import the text chunks into Neo4j\n",
    "db.create.setVectorProperty procedure is used to store the vectors to Neo4j. This procedure is used to verify that the property value is indeed a list of floats. Additionally, it has the added benefit of reducing the storage space of vector property by approximately 50%. Therefore, it is recommended always to use this procedure to store vectors to Neo4j."
   ]
  },
  {
   "cell_type": "code",
   "execution_count": 15,
   "id": "c8c01c3e",
   "metadata": {},
   "outputs": [
    {
     "data": {
      "text/plain": [
       "[{\"'done'\": 'done'}]"
      ]
     },
     "execution_count": 15,
     "metadata": {},
     "output_type": "execute_result"
    }
   ],
   "source": [
    "\n",
    "graph.query(\"\"\"\n",
    "UNWIND $data AS row\n",
    "CREATE (c:Chunk {text: row.text})\n",
    "WITH c, row\n",
    "CALL db.create.setVectorProperty(c, 'embedding', row.embedding)\n",
    "YIELD node\n",
    "RETURN distinct 'done'\n",
    "\"\"\", {'data': chunks})"
   ]
  },
  {
   "cell_type": "markdown",
   "id": "422b165e",
   "metadata": {},
   "source": [
    "## Neo4jVectorChain\n",
    "When you can call the Neo4jVectorChain, the following steps are executed:\n",
    "\n",
    "* Embed the question using the relevant embedding model\n",
    "* Use the text embedding value to retrieve most similar content from the vector index\n",
    "* Use the provided context from similar content to generate the answer"
   ]
  },
  {
   "cell_type": "code",
   "execution_count": 26,
   "id": "8a27a041",
   "metadata": {},
   "outputs": [],
   "source": [
    "from langchain.chains.base import Chain\n",
    "from langchain.chains.llm import LLMChain\n",
    "from langchain.chat_models import ChatOpenAI\n",
    "from langchain.chains.question_answering.stuff_prompt import CHAT_PROMPT\n",
    "from langchain.callbacks.manager import CallbackManagerForChainRun\n",
    "\n",
    "from typing import Any, Dict, List\n",
    "from pydantic import Field\n",
    "\n",
    "vector_search = \"\"\"\n",
    "WITH \n",
    "k, e) yield node, score\n",
    "RETURN node.text AS result\n",
    "ORDER BY score DESC\n",
    "LIMIT 3\n",
    "\"\"\"\n",
    "\n",
    "class Neo4jVectorChain(Chain):\n",
    "    \"\"\"Chain for question-answering against a neo4j vector index.\"\"\"\n",
    "\n",
    "    graph: Neo4jGraph = Field(exclude=True)\n",
    "    input_key: str = \"query\"  #: :meta private:\n",
    "    output_key: str = \"result\"  #: :meta private:\n",
    "    embeddings: OpenAIEmbeddings = OpenAIEmbeddings()\n",
    "    qa_chain: LLMChain = LLMChain(llm=ChatOpenAI(temperature=0), prompt=CHAT_PROMPT)\n",
    "\n",
    "    @property\n",
    "    def input_keys(self) -> List[str]:\n",
    "        \"\"\"Return the input keys.\n",
    "        :meta private:\n",
    "        \"\"\"\n",
    "        return [self.input_key]\n",
    "\n",
    "    @property\n",
    "    def output_keys(self) -> List[str]:\n",
    "        \"\"\"Return the output keys.\n",
    "        :meta private:\n",
    "        \"\"\"\n",
    "        _output_keys = [self.output_key]\n",
    "        return _output_keys\n",
    "\n",
    "    def _call(self, inputs: Dict[str, str], run_manager, k=3) -> Dict[str, Any]:\n",
    "        \"\"\"Embed a question and do vector search.\"\"\"\n",
    "        question = inputs[self.input_key]\n",
    "        embedding = self.embeddings.embed_query(question)\n",
    "        run_manager.on_text(\n",
    "            \"Vector search embeddings:\", end=\"\\n\", verbose=self.verbose\n",
    "        )\n",
    "        run_manager.on_text(\n",
    "            embedding[:5], color=\"green\", end=\"\\n\", verbose=self.verbose\n",
    "        )\n",
    "\n",
    "        context = self.graph.query(\n",
    "            vector_search, {'embedding': embedding, 'k': 3})\n",
    "        context = [el['result'] for el in context]\n",
    "        run_manager.on_text(\n",
    "            \"Retrieved context:\", end=\"\\n\", verbose=self.verbose\n",
    "        )\n",
    "        run_manager.on_text(\n",
    "            context, color=\"green\", end=\"\\n\", verbose=self.verbose\n",
    "        )\n",
    "\n",
    "        result = self.qa_chain(\n",
    "            {\"question\": question, \"context\": context},\n",
    "        )\n",
    "        final_result = result[self.qa_chain.output_key]\n",
    "        return {self.output_key: final_result}"
   ]
  },
  {
   "cell_type": "code",
   "execution_count": 27,
   "id": "227b13ce",
   "metadata": {},
   "outputs": [],
   "source": [
    "vector_qa = Neo4jVectorChain(graph=graph, embeddings=embeddings, verbose=True)"
   ]
  },
  {
   "cell_type": "code",
   "execution_count": null,
   "id": "dee299ba",
   "metadata": {},
   "outputs": [],
   "source": [
    "vector_qa.run(\"What is the gameplay of Baldur s Gate 3 like?\")"
   ]
  },
  {
   "cell_type": "markdown",
   "id": "313e7bea",
   "metadata": {},
   "source": [
    "## Langchain examples"
   ]
  },
  {
   "cell_type": "code",
   "execution_count": 33,
   "id": "f8b08ecc",
   "metadata": {},
   "outputs": [],
   "source": [
    "from langchain.chat_models import ChatOpenAI\n",
    "from langchain.chains import GraphCypherQAChain\n",
    "from langchain.graphs import Neo4jGraph"
   ]
  },
  {
   "cell_type": "markdown",
   "id": "5401faac",
   "metadata": {},
   "source": [
    "## Seeding the database"
   ]
  },
  {
   "cell_type": "code",
   "execution_count": 34,
   "id": "898ca92f",
   "metadata": {},
   "outputs": [
    {
     "data": {
      "text/plain": [
       "[]"
      ]
     },
     "execution_count": 34,
     "metadata": {},
     "output_type": "execute_result"
    }
   ],
   "source": [
    "graph.query(\n",
    "    \"\"\"\n",
    "MERGE (m:Movie {name:\"Top Gun\"})\n",
    "WITH m\n",
    "UNWIND [\"Tom Cruise\", \"Val Kilmer\", \"Anthony Edwards\", \"Meg Ryan\"] AS actor\n",
    "MERGE (a:Actor {name:actor})\n",
    "MERGE (a)-[:ACTED_IN]->(m)\n",
    "\"\"\"\n",
    ")"
   ]
  },
  {
   "cell_type": "markdown",
   "id": "a11bca22",
   "metadata": {},
   "source": [
    "## Refresh graph schema information"
   ]
  },
  {
   "cell_type": "code",
   "execution_count": 35,
   "id": "d470715d",
   "metadata": {},
   "outputs": [],
   "source": [
    "graph.refresh_schema()"
   ]
  },
  {
   "cell_type": "code",
   "execution_count": 36,
   "id": "8bd45cbc",
   "metadata": {},
   "outputs": [
    {
     "name": "stdout",
     "output_type": "stream",
     "text": [
      "\n",
      "        Node properties are the following:\n",
      "        [{'labels': 'Chunk', 'properties': [{'property': 'embedding', 'type': 'LIST'}, {'property': 'text', 'type': 'STRING'}]}, {'labels': 'Movie', 'properties': [{'property': 'name', 'type': 'STRING'}]}, {'labels': 'Actor', 'properties': [{'property': 'name', 'type': 'STRING'}]}]\n",
      "        Relationship properties are the following:\n",
      "        []\n",
      "        The relationships are the following:\n",
      "        ['(:Actor)-[:ACTED_IN]->(:Movie)']\n",
      "        \n"
     ]
    }
   ],
   "source": [
    "print(graph.get_schema)"
   ]
  },
  {
   "cell_type": "markdown",
   "id": "bc79b271",
   "metadata": {},
   "source": [
    "## Querying the graph"
   ]
  },
  {
   "cell_type": "code",
   "execution_count": 37,
   "id": "588754b2",
   "metadata": {},
   "outputs": [],
   "source": [
    "chain = GraphCypherQAChain.from_llm(\n",
    "    ChatOpenAI(temperature=0), graph=graph, verbose=True\n",
    ")"
   ]
  },
  {
   "cell_type": "code",
   "execution_count": 40,
   "id": "60eda821",
   "metadata": {},
   "outputs": [
    {
     "name": "stdout",
     "output_type": "stream",
     "text": [
      "\n",
      "\n",
      "\u001b[1m> Entering new GraphCypherQAChain chain...\u001b[0m\n",
      "Generated Cypher:\n",
      "\u001b[32;1m\u001b[1;3mMATCH (a:Actor)-[:ACTED_IN]->(m:Movie {name: 'Top Gun'})\n",
      "RETURN a.name\u001b[0m\n",
      "Full Context:\n",
      "\u001b[32;1m\u001b[1;3m[{'a.name': 'Tom Cruise'}, {'a.name': 'Val Kilmer'}, {'a.name': 'Anthony Edwards'}, {'a.name': 'Meg Ryan'}]\u001b[0m\n",
      "\n",
      "\u001b[1m> Finished chain.\u001b[0m\n"
     ]
    },
    {
     "data": {
      "text/plain": [
       "'Tom Cruise, Val Kilmer, Anthony Edwards, and Meg Ryan played in Top Gun.'"
      ]
     },
     "execution_count": 40,
     "metadata": {},
     "output_type": "execute_result"
    }
   ],
   "source": [
    "chain.run(\"Who played in Top Gun?\")"
   ]
  },
  {
   "cell_type": "markdown",
   "id": "49939793",
   "metadata": {},
   "source": [
    "## Return intermediate results"
   ]
  },
  {
   "cell_type": "code",
   "execution_count": 41,
   "id": "9a1bdebc",
   "metadata": {},
   "outputs": [],
   "source": [
    "chain = GraphCypherQAChain.from_llm(\n",
    "    ChatOpenAI(temperature=0), graph=graph, verbose=True, return_intermediate_steps=True\n",
    ")"
   ]
  },
  {
   "cell_type": "code",
   "execution_count": 42,
   "id": "11c75e21",
   "metadata": {},
   "outputs": [
    {
     "name": "stdout",
     "output_type": "stream",
     "text": [
      "\n",
      "\n",
      "\u001b[1m> Entering new GraphCypherQAChain chain...\u001b[0m\n",
      "Generated Cypher:\n",
      "\u001b[32;1m\u001b[1;3mMATCH (a:Actor)-[:ACTED_IN]->(m:Movie {name: 'Top Gun'})\n",
      "RETURN a.name\u001b[0m\n",
      "Full Context:\n",
      "\u001b[32;1m\u001b[1;3m[{'a.name': 'Tom Cruise'}, {'a.name': 'Val Kilmer'}, {'a.name': 'Anthony Edwards'}, {'a.name': 'Meg Ryan'}]\u001b[0m\n",
      "\n",
      "\u001b[1m> Finished chain.\u001b[0m\n",
      "Intermediate steps: [{'query': \"MATCH (a:Actor)-[:ACTED_IN]->(m:Movie {name: 'Top Gun'})\\nRETURN a.name\"}, {'context': [{'a.name': 'Tom Cruise'}, {'a.name': 'Val Kilmer'}, {'a.name': 'Anthony Edwards'}, {'a.name': 'Meg Ryan'}]}]\n",
      "Final answer: Tom Cruise, Val Kilmer, Anthony Edwards, and Meg Ryan played in Top Gun.\n"
     ]
    }
   ],
   "source": [
    "result = chain(\"Who played in Top Gun?\")\n",
    "print(f\"Intermediate steps: {result['intermediate_steps']}\")\n",
    "print(f\"Final answer: {result['result']}\")"
   ]
  },
  {
   "cell_type": "markdown",
   "id": "c6b2ddfc",
   "metadata": {},
   "source": [
    "## Add examples in the Cypher generation prompt"
   ]
  },
  {
   "cell_type": "code",
   "execution_count": 43,
   "id": "08aaaed6",
   "metadata": {},
   "outputs": [],
   "source": [
    "from langchain.prompts.prompt import PromptTemplate\n",
    "\n",
    "\n",
    "CYPHER_GENERATION_TEMPLATE = \"\"\"Task:Generate Cypher statement to query a graph database.\n",
    "Instructions:\n",
    "Use only the provided relationship types and properties in the schema.\n",
    "Do not use any other relationship types or properties that are not provided.\n",
    "Schema:\n",
    "{schema}\n",
    "Note: Do not include any explanations or apologies in your responses.\n",
    "Do not respond to any questions that might ask anything else than for you to construct a Cypher statement.\n",
    "Do not include any text except the generated Cypher statement.\n",
    "Examples: Here are a few examples of generated Cypher statements for particular questions:\n",
    "# How many people played in Top Gun?\n",
    "MATCH (m:Movie {{title:\"Top Gun\"}})<-[:ACTED_IN]-()\n",
    "RETURN count(*) AS numberOfActors\n",
    "\n",
    "The question is:\n",
    "{question}\"\"\"\n",
    "\n",
    "CYPHER_GENERATION_PROMPT = PromptTemplate(\n",
    "    input_variables=[\"schema\", \"question\"], template=CYPHER_GENERATION_TEMPLATE\n",
    ")\n",
    "\n",
    "chain = GraphCypherQAChain.from_llm(\n",
    "    ChatOpenAI(temperature=0), graph=graph, verbose=True, cypher_prompt=CYPHER_GENERATION_PROMPT\n",
    ")"
   ]
  },
  {
   "cell_type": "code",
   "execution_count": 44,
   "id": "5f3f2b96",
   "metadata": {},
   "outputs": [
    {
     "name": "stdout",
     "output_type": "stream",
     "text": [
      "\n",
      "\n",
      "\u001b[1m> Entering new GraphCypherQAChain chain...\u001b[0m\n",
      "Generated Cypher:\n",
      "\u001b[32;1m\u001b[1;3mMATCH (:Movie {name:\"Top Gun\"})<-[:ACTED_IN]-(:Actor)\n",
      "RETURN count(*) AS numberOfActors\u001b[0m\n",
      "Full Context:\n",
      "\u001b[32;1m\u001b[1;3m[{'numberOfActors': 4}]\u001b[0m\n",
      "\n",
      "\u001b[1m> Finished chain.\u001b[0m\n"
     ]
    },
    {
     "data": {
      "text/plain": [
       "'Four people played in Top Gun.'"
      ]
     },
     "execution_count": 44,
     "metadata": {},
     "output_type": "execute_result"
    }
   ],
   "source": [
    "chain.run(\"How many people played in Top Gun?\")"
   ]
  },
  {
   "cell_type": "code",
   "execution_count": null,
   "id": "5a98881f",
   "metadata": {},
   "outputs": [],
   "source": []
  }
 ],
 "metadata": {
  "kernelspec": {
   "display_name": "Python 3 (ipykernel)",
   "language": "python",
   "name": "python3"
  },
  "language_info": {
   "codemirror_mode": {
    "name": "ipython",
    "version": 3
   },
   "file_extension": ".py",
   "mimetype": "text/x-python",
   "name": "python",
   "nbconvert_exporter": "python",
   "pygments_lexer": "ipython3",
   "version": "3.11.5"
  }
 },
 "nbformat": 4,
 "nbformat_minor": 5
}
